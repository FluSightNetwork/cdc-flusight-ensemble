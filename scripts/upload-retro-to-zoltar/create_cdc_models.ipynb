{
 "cells": [
  {
   "cell_type": "markdown",
   "metadata": {},
   "source": [
    "# Create `cdc-flusight-ensemble` Models on Zoltar\n",
    "This notebook uploads the models for the `cdc-flusight` Zoltar projects programatically. \n",
    "\n",
    "**No knoweledge of json formatting is required.** To edit this template, simply update the `cdc-models.csv` to correspond with your project."
   ]
  },
  {
   "cell_type": "markdown",
   "metadata": {},
   "source": [
    " ## Create Models Function"
   ]
  },
  {
   "cell_type": "code",
   "execution_count": 8,
   "metadata": {},
   "outputs": [],
   "source": [
    "def create_models_from_json(conn, project_name, model_metadata, curr_model_dir):\n",
    "    conn.re_authenticate_if_necessary()\n",
    "    \n",
    "    # check if project exists\n",
    "    project = [project for project in conn.projects if project.name == project_name]\n",
    "    if not project:\n",
    "        print(\"could not find project= %s\" % project_name)\n",
    "        return\n",
    "    project = project[0]\n",
    "    \n",
    "    # get existing models\n",
    "    existing_model = [model.name for model in project.models]\n",
    "\n",
    "    # check if model exists\n",
    "    model_name = model_metadata['model_name']\n",
    "    model_abbrv = model_metadata['model_abbr']\n",
    "    team_name = model_metadata['team_name']\n",
    "    model_desc = model_metadata['methods']\n",
    "    home_url = \"https://github.com/FluSightNetwork/cdc-flusight-ensemble/tree/master/model-forecasts/component-models/\" + curr_model_dir\n",
    "\n",
    "    model_dict = {\n",
    "        \"name\": model_name,\n",
    "        \"abbreviation\": model_abbrv,\n",
    "        \"team_name\": team_name,\n",
    "        \"description\": model_desc,\n",
    "        \"home_url\": home_url,\n",
    "        \"aux_data_url\": None\n",
    "    }\n",
    "    \n",
    "    # add model if not exists\n",
    "    if model_name in existing_model:\n",
    "        print(\"model already exists: %s\" % model_name)\n",
    "    else:\n",
    "        new_model = project.create_model(model_dict)\n",
    "        print(\"created new model: %s\" % model_name)"
   ]
  },
  {
   "cell_type": "markdown",
   "metadata": {},
   "source": [
    "## Create Models from Json"
   ]
  },
  {
   "cell_type": "code",
   "execution_count": 9,
   "metadata": {},
   "outputs": [
    {
     "name": "stdout",
     "output_type": "stream",
     "text": [
      "Model:  Protea_Kudu\n"
     ]
    },
    {
     "name": "stderr",
     "output_type": "stream",
     "text": [
      "/Users/katiehouse/anaconda3/lib/python3.6/site-packages/ipykernel_launcher.py:23: YAMLLoadWarning: calling yaml.load() without Loader=... is deprecated, as the default Loader is unsafe. Please read https://msg.pyyaml.org/load for full details.\n"
     ]
    },
    {
     "name": "stdout",
     "output_type": "stream",
     "text": [
      "created new model: Subtype weighted historical average model\n",
      "Model:  ReichLab_kcde_backfill_none\n",
      "created new model: Kernel Conditional Density Estimation, no backfill adjustment\n",
      "Model:  Delphi_BasisRegression\n",
      "created new model: Basis Regression (epiforecast package defaults)\n",
      "Model:  FluOutlook_Mech\n",
      "created new model: Mechanistic GLEAM Ensemble\n",
      "Model:  FluX_LSTM\n",
      "created new model: Recurrent Neural Network (Long Short-Term Memory)\n",
      "Model:  CU_EKF_SEIRS\n",
      "created new model: Ensemble Kalman Filter SEIRS\n",
      "Model:  Protea_Springbok\n",
      "created new model: Dynamic Harmonic Model with ARIMA errors\n",
      "Model:  CU_EAKFC_SEIRS\n",
      "created new model: Ensemble Adjustment Kalman Filter SEIRS\n",
      "Model:  LANL_DBMplus\n",
      "created new model: Dynamic Bayesian Model plus\n",
      "Model:  CU_EKF_SIRS\n",
      "created new model: Ensemble Kalman Filter SIRS\n",
      "Model:  CUBMA\n",
      "created new model: Bayesian Model Averaging\n",
      "Model:  ReichLab_sarima_seasonal_difference_FALSE\n",
      "created new model: SARIMA model without seasonal differencing\n",
      "Model:  ReichLab_sarima_seasonal_difference_TRUE\n",
      "created new model: SARIMA model with seasonal differencing\n",
      "Model:  Delphi_EmpiricalTrajectories\n",
      "created new model: Empirical Trajectories (epiforecast package defaults)\n",
      "Model:  ReichLab_kde\n",
      "created new model: Kernel Density Estimation\n",
      "Model:  Protea_Cheetah\n",
      "created new model: Ensemble of dynamic harmonic model and historical averages\n",
      "Model:  Delphi_ExtendedDeltaDensity\n",
      "created new model: Delta Density (epiforecast package defaults)\n",
      "Model:  Delphi_MarkovianDeltaDensity\n",
      "created new model: Markovian Delta Density (epiforecast package defaults)\n",
      "Model:  CU_RHF_SIRS\n",
      "created new model: Rank Histogram Filter SIRS\n",
      "Model:  Delphi_Uniform\n",
      "created new model: Uniform Distribution\n",
      "Model:  UA_EpiCos\n",
      "created new model: Epidemic Cosine with Variational Data Assimilation\n",
      "Model:  Delphi_EmpiricalFutures\n",
      "created new model: Empirical Futures (epiforecast package defaults)\n",
      "Model:  FluOutlook_MechAug\n",
      "created new model: Augmented Mechanistic GLEAM Ensemble\n",
      "Model:  FluX_ARLR\n",
      "created new model: Auto Regressive model with Likelihood Ratio based Model Selection\n",
      "Model:  ReichLab_kcde_backfill_post_hoc\n",
      "created new model: Kernel Conditional Density Estimation, post-hoc backfill adjustment\n",
      "Model:  CU_RHF_SEIRS\n",
      "created new model: Rank Histogram Filter SEIRS\n",
      "Model:  CU_EAKFC_SIRS\n",
      "created new model: Ensemble Adjustment Kalman Filter SIRS\n"
     ]
    }
   ],
   "source": [
    "from zoltpy import util\n",
    "import glob\n",
    "import pandas as pd\n",
    "import json\n",
    "import yaml\n",
    "\n",
    "conn = util.authenticate()\n",
    "\n",
    "# initialize variables\n",
    "my_path = \"../../model-forecasts/component-models\"\n",
    "project_name = 'CDC Retrospective Forecasts'\n",
    "\n",
    "# loop through model directories\n",
    "for first_path in glob.iglob(my_path + \"**/**/\", recursive=False):\n",
    "    \n",
    "    # get model directory\n",
    "    path = os.path.dirname(first_path)\n",
    "    curr_model_dir = os.path.basename(path)\n",
    "    \n",
    "    print(\"Model: \", curr_model_dir)\n",
    "\n",
    "    # get zoltar model name\n",
    "    metadata = yaml.load(open(path + \"/metadata.txt\", 'r'))\n",
    "    conn = util.authenticate()\n",
    "    create_models_from_json(conn, 'CDC Retrospective Forecasts', metadata, curr_model_dir)"
   ]
  },
  {
   "cell_type": "markdown",
   "metadata": {},
   "source": [
    "## Delete Existing Forecasts"
   ]
  },
  {
   "cell_type": "code",
   "execution_count": 7,
   "metadata": {},
   "outputs": [
    {
     "name": "stdout",
     "output_type": "stream",
     "text": [
      "Deleting Model Empirical Trajectories (epiforecast package defaults, 2018/2019 version)\n",
      "Empirical Trajectories (epiforecast package defaults, 2018/2019 version) may have forecasts - these WILL BE DELETED.\n",
      "Return Y to Proceed, N to Cancel: Y\n",
      "delete_model(): deleting existing model. model=30, \n",
      "delete_model(): delete done\n"
     ]
    }
   ],
   "source": [
    "from zoltpy import util\n",
    "\n",
    "project_name = 'CDC Retrospective Forecasts'\n",
    "\n",
    "conn = util.authenticate()\n",
    "project = [project for project in conn.projects if project.name == project_name][0]\n",
    "models = [model for model in project.models]\n",
    "model_names = [model.name for model in project.models]\n",
    "\n",
    "\n",
    "for model in model_names:\n",
    "    print(\"Deleting Model\" , model)\n",
    "    conn = util.authenticate()\n",
    "    util.delete_model(conn, project_name, model)"
   ]
  },
  {
   "cell_type": "code",
   "execution_count": null,
   "metadata": {},
   "outputs": [],
   "source": []
  }
 ],
 "metadata": {
  "kernelspec": {
   "display_name": "Python 3",
   "language": "python",
   "name": "python3"
  },
  "language_info": {
   "codemirror_mode": {
    "name": "ipython",
    "version": 3
   },
   "file_extension": ".py",
   "mimetype": "text/x-python",
   "name": "python",
   "nbconvert_exporter": "python",
   "pygments_lexer": "ipython3",
   "version": "3.6.10"
  }
 },
 "nbformat": 4,
 "nbformat_minor": 2
}
