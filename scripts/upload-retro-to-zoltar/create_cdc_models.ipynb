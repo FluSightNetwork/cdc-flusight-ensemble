{
 "cells": [
  {
   "cell_type": "markdown",
   "metadata": {},
   "source": [
    "# Create `cdc-flusight-ensemble` Models on Zoltar\n",
    "This notebook uploads the models for the `cdc-flusight` Zoltar projects programatically. \n",
    "\n",
    "**No knoweledge of json formatting is required.** To edit this template, simply update the `cdc-models.csv` to correspond with your project."
   ]
  },
  {
   "cell_type": "markdown",
   "metadata": {},
   "source": [
    " ## Create `models.json` For Upload"
   ]
  },
  {
   "cell_type": "code",
   "execution_count": 2,
   "metadata": {},
   "outputs": [],
   "source": [
    "import pandas as pd\n",
    "import json\n",
    "df = pd.read_csv('models.csv')\n",
    "df['name'] = df['Zoltar-model-name-updated']\n",
    "df['abbreviation'] = df['model-dir']\n",
    "df['team_name'] = df['Team-name']\n",
    "df['description'] = df['Zoltar-model-name-updated']\n",
    "df['home_url'] = df['url']\n",
    "df['aux_data_url'] = None\n",
    "df = df.drop(['Zoltar-model-name-updated','model-dir','Team-name','url'],axis=1)\n",
    "out = json.loads(df.to_json(orient=\"records\"))\n",
    "\n",
    "with open('cdc-model.json', 'w') as json_file:\n",
    "    json.dump(out, json_file, indent=2)"
   ]
  },
  {
   "cell_type": "markdown",
   "metadata": {},
   "source": [
    " ## Create Models Function"
   ]
  },
  {
   "cell_type": "code",
   "execution_count": 13,
   "metadata": {},
   "outputs": [],
   "source": [
    "def create_models_from_json(conn, project_name, model_json):\n",
    "    conn.re_authenticate_if_necessary()\n",
    "    \n",
    "    # check if project exists\n",
    "    project = [project for project in conn.projects if project.name == project_name]\n",
    "    if not project:\n",
    "        print(\"could not find project= %s\" % project_name)\n",
    "        return\n",
    "    project = project[0]\n",
    "    \n",
    "    # get existing models\n",
    "    existing_model = [model.name for model in project.models]\n",
    "    \n",
    "    # open json file as dict\n",
    "    with open(model_json) as fp:\n",
    "        model_dict = json.load(fp)\n",
    "    \n",
    "    for i in range(len(model_dict)):\n",
    "        \n",
    "        # check if model exists\n",
    "        model_name = model_dict[i]['name']\n",
    "        \n",
    "        # add model if not exists\n",
    "        if model_name in existing_model:\n",
    "            print(\"model already exists: %s\" % model_name)\n",
    "        else:\n",
    "            new_model = project.create_model(model_dict[i])\n",
    "            print(\"created new model: %s\" % model_name)"
   ]
  },
  {
   "cell_type": "markdown",
   "metadata": {},
   "source": [
    "## Create Models from Json"
   ]
  },
  {
   "cell_type": "code",
   "execution_count": 14,
   "metadata": {},
   "outputs": [
    {
     "name": "stdout",
     "output_type": "stream",
     "text": [
      "model already exists: Bayesian Model Averaging\n",
      "model already exists: Ensemble Adjustment Kalman Filter SEIRS\n",
      "model already exists: Ensemble Adjustment Kalman Filter SIRS\n",
      "model already exists: Ensemble Kalman Filter SEIRS\n",
      "model already exists: Ensemble Kalman Filter SIRS\n",
      "model already exists: Rank Histogram Filter SEIRS\n",
      "model already exists: Rank Histogram Filter SIRS\n",
      "model already exists: Uniform Distribution\n",
      "model already exists: Kernel Conditional Density Estimation\n",
      "model already exists: Kernel Density Estimation\n",
      "model already exists: SARIMA model without seasonal differencing\n",
      "model already exists: SARIMA model with seasonal differencing\n",
      "model already exists: Basis Regression (epiforecast package defaults, 2017/2018 version)\n",
      "model already exists: Delta Density (epiforecast package defaults, 2017/2018 version)\n",
      "model already exists: Empirical Bayes (conditioning on past four weeks only, 2017/2018 version)\n",
      "model already exists: Empirical Bayes (epiforecast package defaults, 2017/2018 version)\n",
      "model already exists: Empirical Futures (epiforecast package defaults, 2017/2018 version)\n",
      "model already exists: Empirical Trajectories (epiforecast package defaults, 2017/2018 version)\n",
      "model already exists: Markovian Delta Density (epiforecast package defaults, 2017/2018 version)\n",
      "model already exists: Statistical Ensemble (using the eight submitted components, with no backcasting or nowcasting, 2017/2018 version)\n",
      "model already exists: Dynamic Bayesian Model with a hierarchical discrepancy, 2017/2018 version\n",
      "model already exists: Basis Regression (epiforecast package defaults, 2018/2019 version)\n",
      "model already exists: Empirical Futures (epiforecast package defaults, 2018/2019 version)\n",
      "model already exists: Empirical Trajectories (epiforecast package defaults, 2018/2019 version)\n",
      "model already exists: Delta Density (epiforecast package defaults, 2018/2019 version)\n",
      "model already exists: Markovian Delta Density (epiforecast package defaults, 2018/2019 version)\n",
      "model already exists: Dynamic Bayesian Model with a hierarchical discrepancy + Google-based nowcasts\n",
      "created new model: Cheetah (Ensemble of dynamic harmonic model and historical averages)\n",
      "created new model: Kudu (Subtype weighted historical average model)\n",
      "created new model: Springbok (Dynamic Harmonic Model with ARIMA errors)\n"
     ]
    }
   ],
   "source": [
    "from zoltpy import util\n",
    "\n",
    "conn = util.authenticate()\n",
    "create_models_from_json(conn, 'CDC Retrospective Forecasts', 'cdc-model.json')"
   ]
  }
 ],
 "metadata": {
  "kernelspec": {
   "display_name": "Python 3",
   "language": "python",
   "name": "python3"
  },
  "language_info": {
   "codemirror_mode": {
    "name": "ipython",
    "version": 3
   },
   "file_extension": ".py",
   "mimetype": "text/x-python",
   "name": "python",
   "nbconvert_exporter": "python",
   "pygments_lexer": "ipython3",
   "version": "3.6.9"
  }
 },
 "nbformat": 4,
 "nbformat_minor": 2
}
