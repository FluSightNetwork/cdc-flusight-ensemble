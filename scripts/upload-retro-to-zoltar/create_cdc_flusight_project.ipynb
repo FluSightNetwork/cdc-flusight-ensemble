{
 "cells": [
  {
   "cell_type": "markdown",
   "metadata": {},
   "source": [
    "# Create `cdc-flusight-ensemble` Project on Zoltar\n",
    "This notebook creates the project template for the `cdc-flusight` Zoltar projects programatically. \n",
    "\n",
    "**No knoweledge of json formatting is required.** To edit this template, simply update the variables to correspond with your project."
   ]
  },
  {
   "cell_type": "markdown",
   "metadata": {},
   "source": [
    "## Upload YAML to Python Dictionary\n",
    "update the `cdc-project.yaml` for the CDC Flu Forecasting project. This template shoudn't need much updating, but is a good starting point for future Zoltar projects."
   ]
  },
  {
   "cell_type": "code",
   "execution_count": 10,
   "metadata": {},
   "outputs": [
    {
     "name": "stdout",
     "output_type": "stream",
     "text": [
      "[\n",
      " {\n",
      "  \"name\": \"CDC Retrospective Forecasts\",\n",
      "  \"is_public\": true,\n",
      "  \"description\": \"Guidelines and \n"
     ]
    }
   ],
   "source": [
    "import yaml\n",
    "import json\n",
    "import numpy as np\n",
    "import pymmwr as pm\n",
    "import datetime\n",
    "from collections import OrderedDict\n",
    "\n",
    "template = open(\"cdc-project.yaml\", 'r')\n",
    "template = yaml.load(template)\n",
    "print(json.dumps(template, indent=1)[:100])"
   ]
  },
  {
   "cell_type": "markdown",
   "metadata": {},
   "source": [
    "## Replace `lwr` with Correct Bins\n",
    "This script converts the following target `lwr` inputs from the `cdc-project.yaml` to bin values:\n",
    "```\n",
    "lwr: \n",
    "    - start: 0\n",
    "    - end: 13\n",
    "    - step: 0.1\n",
    "```"
   ]
  },
  {
   "cell_type": "code",
   "execution_count": 11,
   "metadata": {},
   "outputs": [],
   "source": [
    "targets = template[0]['targets']\n",
    "for i in range(len(targets)):\n",
    "    if 'lwr' in targets[i].keys():\n",
    "        # update the target lwr\n",
    "        lwr = targets[i]['lwr']\n",
    "        \n",
    "        # extract bin values from lwr\n",
    "        start = lwr[0]['start']\n",
    "        end = lwr[1]['end']\n",
    "        step = lwr[2]['step']\n",
    "        \n",
    "        # calculate bin values\n",
    "        bins = list(np.arange(start, end + step, step).round(2))\n",
    "        \n",
    "        # update dictionary with new bins\n",
    "        targets[i]['lwr'] = bins"
   ]
  },
  {
   "cell_type": "markdown",
   "metadata": {},
   "source": [
    "## Create `timezeros`"
   ]
  },
  {
   "cell_type": "code",
   "execution_count": 12,
   "metadata": {},
   "outputs": [
    {
     "name": "stdout",
     "output_type": "stream",
     "text": [
      "[{'type': 'retrospective'}, {'start': 2010}, {'end': 2017}]\n"
     ]
    }
   ],
   "source": [
    "timezeros = template[0]['timezeros']\n",
    "print(timezeros)"
   ]
  },
  {
   "cell_type": "code",
   "execution_count": 13,
   "metadata": {},
   "outputs": [],
   "source": [
    "def create_timezeros(timezero_type, start_year, end_year):\n",
    "    fall = list(range(40,54))\n",
    "    spring = list(range(1, 21))\n",
    "    season = fall + spring\n",
    "\n",
    "    data_version_date = None\n",
    "\n",
    "    timezeros = []\n",
    "\n",
    "    for year in range(start_year, end_year):\n",
    "        for epi_week in season:\n",
    "\n",
    "            # create timezero_date\n",
    "            if  40 <= epi_week <= 53: # fall\n",
    "                ew = pm.Epiweek(year, epi_week)\n",
    "            else: # spring\n",
    "                ew = pm.Epiweek(year + 1, epi_week)\n",
    "\n",
    "            timezero = pm.epiweek_to_date(ew)\n",
    "            timezero = timezero + datetime.timedelta(days = 1)\n",
    "\n",
    "            # create data_version_date\n",
    "            if forecast_type == 'retrospective':\n",
    "                data_version_date = timezero + datetime.timedelta(weeks = 2)\n",
    "                data_version_date = data_version_date.strftime('%Y%m%d')\n",
    "\n",
    "            # format dates\n",
    "            timezero = timezero.strftime('%Y%m%d')\n",
    "\n",
    "            # determine is_season_start\n",
    "            if epi_week == 40:\n",
    "                is_season_start = True\n",
    "            else:\n",
    "                is_season_start = False\n",
    "\n",
    "            # create season_name\n",
    "            season_name = str(year) + '-' + str(year + 1)[-2:]\n",
    "\n",
    "            # create dictionary\n",
    "            date =  {\n",
    "              \"timezero_date\": timezero,\n",
    "              \"data_version_date\": data_version_date,\n",
    "              \"is_season_start\": is_season_start,\n",
    "              \"season_name\": season_name\n",
    "            }\n",
    "\n",
    "            timezeros += [date]\n",
    "\n",
    "    return timezeros"
   ]
  },
  {
   "cell_type": "code",
   "execution_count": 14,
   "metadata": {},
   "outputs": [],
   "source": [
    "forecast_type = template[0]['timezeros'][0][\"type\"]\n",
    "start_year = template[0]['timezeros'][1][\"start\"]\n",
    "end_year = template[0]['timezeros'][2][\"end\"]\n",
    "\n",
    "timezeros = create_timezeros(forecast_type, start_year, end_year)"
   ]
  },
  {
   "cell_type": "markdown",
   "metadata": {},
   "source": [
    "## Update template with new Timezeros"
   ]
  },
  {
   "cell_type": "code",
   "execution_count": 15,
   "metadata": {},
   "outputs": [],
   "source": [
    "template[0]['timezeros'] = timezeros"
   ]
  },
  {
   "cell_type": "markdown",
   "metadata": {},
   "source": [
    "## Create `cdc-project.json` File"
   ]
  },
  {
   "cell_type": "code",
   "execution_count": 16,
   "metadata": {},
   "outputs": [],
   "source": [
    "with open('cdc-project-new.json', 'w') as json_file:\n",
    "    json.dump(template[0], json_file, indent=2)"
   ]
  },
  {
   "cell_type": "markdown",
   "metadata": {},
   "source": [
    " ## Create New Project in Zoltar"
   ]
  },
  {
   "cell_type": "code",
   "execution_count": null,
   "metadata": {},
   "outputs": [],
   "source": [
    "from zoltpy import util\n",
    "conn = util.authenticate()\n",
    "util.create_project(conn, 'cdc-project.json')"
   ]
  }
 ],
 "metadata": {
  "kernelspec": {
   "display_name": "Python 3",
   "language": "python",
   "name": "python3"
  },
  "language_info": {
   "codemirror_mode": {
    "name": "ipython",
    "version": 3
   },
   "file_extension": ".py",
   "mimetype": "text/x-python",
   "name": "python",
   "nbconvert_exporter": "python",
   "pygments_lexer": "ipython3",
   "version": "3.6.9"
  }
 },
 "nbformat": 4,
 "nbformat_minor": 2
}
